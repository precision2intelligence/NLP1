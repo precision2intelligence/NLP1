{
 "cells": [
  {
   "cell_type": "code",
   "execution_count": 1,
   "metadata": {},
   "outputs": [],
   "source": [
    "import re\n",
    "import pandas as pd\n",
    "\n",
    "def result_of_log(src_filepath,tar_filepath):\n",
    "    status = \"\"\n",
    "    ids = \"\"\n",
    "    with open(src_filepath,encoding='utf-8') as f:\n",
    "        for line in f:\n",
    "            result = re.match(r'.*\"status\":(.*?),.*\"id\":(.*?)}', line)\n",
    "            if result:\n",
    "                status += result.groups()[0]\n",
    "                ids += result.groups()[1].replace('\"','')\n",
    "    df = pd.DataFrame({'status':status.split(),'ids':ids.split()})\n",
    "    df.to_csv(tar_filepath,encoding='utf-8',columns=['status','ids'],index=None)"
   ]
  },
  {
   "cell_type": "code",
   "execution_count": 2,
   "metadata": {},
   "outputs": [],
   "source": [
    "result_of_log('log.2018-05-31','result')"
   ]
  }
 ],
 "metadata": {
  "kernelspec": {
   "display_name": "Python 3",
   "language": "python",
   "name": "python3"
  },
  "language_info": {
   "codemirror_mode": {
    "name": "ipython",
    "version": 3
   },
   "file_extension": ".py",
   "mimetype": "text/x-python",
   "name": "python",
   "nbconvert_exporter": "python",
   "pygments_lexer": "ipython3",
   "version": "3.5.0rc4"
  }
 },
 "nbformat": 4,
 "nbformat_minor": 2
}
