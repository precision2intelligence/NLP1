{
 "cells": [
  {
   "cell_type": "markdown",
   "metadata": {},
   "source": [
    "# CRF计算过程"
   ]
  },
  {
   "cell_type": "code",
   "execution_count": null,
   "metadata": {},
   "outputs": [],
   "source": [
    "import os\n",
    "import time \n",
    "since1 = time.time()\n",
    "os.system('crf_learn -f 3 -c 4.0 template_tmp eng.train model')\n",
    "time_elapsed1 = time.time() - since1\n",
    "print('Training complete in {:.0f}m {:.0f}s'.format(time_elapsed1 // 60, time_elapsed1 % 60))\n",
    "since2 = time.time()\n",
    "os.system('crf_test -m model eng.testa > result.txt')\n",
    "time_elapsed2 = time.time() - since2\n",
    "print('Test complete in {:.0f}m {:.0f}s'.format(time_elapsed2 // 60, time_elapsed2 % 60))"
   ]
  },
  {
   "cell_type": "markdown",
   "metadata": {},
   "source": [
    "# 计算p,r,f1指标"
   ]
  },
  {
   "cell_type": "code",
   "execution_count": null,
   "metadata": {},
   "outputs": [],
   "source": [
    "import pandas as pd \n",
    "\n",
    "def compute_f1(data_path):\n",
    "    df = pd.read_table(data_path, header=None, sep='\\t', \n",
    "                     names=['word','pos','info','event_tag', 'predict_tag'], encoding='utf-8')\n",
    "\n",
    "    tp = 0\n",
    "    tn = 0\n",
    "    fp = 0\n",
    "    fn = 0\n",
    "    for index, content in df.iterrows():\n",
    "        if content['event_tag'] == u'O':\n",
    "            if content['predict_tag'] == u'O':\n",
    "                tn += 1\n",
    "            else:\n",
    "                fp += 1\n",
    "        else:\n",
    "            if content['event_tag'] == content['predict_tag']:\n",
    "                tp += 1\n",
    "            else:\n",
    "                fn += 1\n",
    "\n",
    "    print('tp:{}, fn:{}, tn:{}, fp:{}'.format(tp, fn, tn, fp))\n",
    "\n",
    "    precision = tp / (tp + fp)\n",
    "    recall = tp / (tp + fn)\n",
    "\n",
    "    f1_score = 2 * precision * recall / (precision + recall)\n",
    "    print(df.shape)\n",
    "\n",
    "    return f1_score, precision, recall"
   ]
  },
  {
   "cell_type": "markdown",
   "metadata": {},
   "source": [
    "# 输出结果"
   ]
  },
  {
   "cell_type": "code",
   "execution_count": null,
   "metadata": {},
   "outputs": [],
   "source": [
    "data_path='result.txt'\n",
    "f1_score, precision, recall = compute_f1(data_path)"
   ]
  }
 ],
 "metadata": {
  "kernelspec": {
   "display_name": "Python 3",
   "language": "python",
   "name": "python3"
  },
  "language_info": {
   "codemirror_mode": {
    "name": "ipython",
    "version": 3
   },
   "file_extension": ".py",
   "mimetype": "text/x-python",
   "name": "python",
   "nbconvert_exporter": "python",
   "pygments_lexer": "ipython3",
   "version": "3.5.0rc4"
  }
 },
 "nbformat": 4,
 "nbformat_minor": 2
}
